{
  "cells": [
    {
      "cell_type": "markdown",
      "metadata": {
        "id": "Tw13a6P8Nkgs"
      },
      "source": [
        "#Работа с СУБД SQLite"
      ]
    },
    {
      "cell_type": "code",
      "execution_count": 1,
      "metadata": {
        "id": "nyDL0BMAMv5v"
      },
      "outputs": [],
      "source": [
        "import sqlite3 as sl\n",
        "#sqlite3.api level\n",
        "#sqlite3.sqlite_version"
      ]
    },
    {
      "cell_type": "code",
      "execution_count": 2,
      "metadata": {
        "id": "Y2mJj3zpy9lx"
      },
      "outputs": [],
      "source": [
        "db1=sl.connect('3_5.db')"
      ]
    },
    {
      "cell_type": "code",
      "execution_count": null,
      "metadata": {
        "id": "GGQ1fz88hutn"
      },
      "outputs": [],
      "source": [
        "#from google.colab import drive\n",
        "#drive.mount('/content/drive')"
      ]
    },
    {
      "cell_type": "code",
      "execution_count": 3,
      "metadata": {
        "colab": {
          "base_uri": "https://localhost:8080/"
        },
        "id": "uJnzqzeX3Zg3",
        "outputId": "cb7c2ad7-1ff3-4273-b4da-936e545a51a1"
      },
      "outputs": [
        {
          "output_type": "stream",
          "name": "stdout",
          "text": [
            "Зaпpoc успешно выполнен\n"
          ]
        }
      ],
      "source": [
        "crs=db1.cursor()\n",
        "crs.execute(\"\"\"CREATE TABLE doctor(doctor_id serial NOT NULL PRIMARY KEY,\n",
        "\tsurname varchar(50) NOT NULL,\n",
        "\tfirstname varchar(50) NOT NULL,\n",
        "\tpatronymic varchar(20) NULL,\n",
        "\tdep_id int NOT NULL,\n",
        "\tspec_id int NOT NULL)\"\"\")\n",
        "sql_insert=\"\"\"INSERT INTO doctor VALUES (1,'Федоров', 'Илья', 'Васильевич', 1, 1),(2, 'Мозгунова', 'Светлана', 'Яковлевна', 2, 3), (3, 'Крапивова', 'Екатерина', 'Игоревна', 3, 2)\"\"\"\n",
        "\n",
        "try:\n",
        "    crs.execute(sql_insert)\n",
        "except sl.DatabaseError as err:\n",
        "    print('Error: ', err)\n",
        "else:\n",
        "    db1.commit()\n",
        "    print('Зaпpoc успешно выполнен')\n",
        "\n",
        "crs.close()"
      ]
    },
    {
      "cell_type": "code",
      "execution_count": 4,
      "metadata": {
        "id": "3YUrVK-sP3jv"
      },
      "outputs": [],
      "source": [
        "crs=db1.cursor()\n",
        "\n",
        "crs.executescript(\"\"\"CREATE TABLE deps (dep_id serial NOT NULL PRIMARY KEY, name varchar(100) NOT NULL);\n",
        "CREATE TABLE spec(spec_id serial NOT NULL PRIMARY KEY, name varchar(100) NOT NULL);\n",
        "INSERT INTO deps VALUES (1, 'Кардиологическое отделение'), (2, 'Пульмонологическое отделение'), (3, 'Гастроэнтерологическое отделение');\n",
        "INSERT INTO spec  VALUES (1, 'Кардиолог'), (2, 'Пульмонолог'), (3, 'Гастроэнтеролог'),(4, 'Врач функциональной диагностики');\"\"\")\n",
        "db1.commit()"
      ]
    },
    {
      "cell_type": "code",
      "execution_count": 5,
      "metadata": {
        "colab": {
          "base_uri": "https://localhost:8080/"
        },
        "id": "peraJWJTSLwX",
        "outputId": "131b3db1-6f7f-4aed-8c17-18905b7f1048"
      },
      "outputs": [
        {
          "output_type": "stream",
          "name": "stdout",
          "text": [
            "\n",
            "Просмотр всех записей таблицы doctor\n",
            "(1, 'Федоров', 'Илья', 'Васильевич', 1, 1)\n",
            "(2, 'Мозгунова', 'Светлана', 'Яковлевна', 2, 3)\n",
            "(3, 'Крапивова', 'Екатерина', 'Игоревна', 3, 2)\n"
          ]
        }
      ],
      "source": [
        "crs=db1.cursor()\n",
        "print('\\nПросмотр всех записей таблицы doctor')\n",
        "for r in crs.execute('SELECT * FROM doctor ORDER BY doctor_id '):\n",
        "  print(r)"
      ]
    },
    {
      "cell_type": "code",
      "execution_count": 6,
      "metadata": {
        "colab": {
          "base_uri": "https://localhost:8080/"
        },
        "id": "8KrSYz5m2YzG",
        "outputId": "330aa3a1-c2ec-43d4-9574-29c47ddd6580"
      },
      "outputs": [
        {
          "output_type": "stream",
          "name": "stdout",
          "text": [
            "Зaпpoc успешно выполнен\n"
          ]
        }
      ],
      "source": [
        "crs=db1.cursor()\n",
        "st=[(4,'Смирнов', 'Алексей', 'Михайлович', 1, 2),(5,'Арутян', 'Карен', 'Альбертович', 2, 3),(6,'Фаткуллин', 'Фарид', 'Ильдарович', 3, 2)]\n",
        "\n",
        "try:\n",
        "    crs.executemany('INSERT INTO doctor VALUES (?,?,?,?,?,?)',st)\n",
        "except sqlite3.DatabaseError as err:\n",
        "    print('Error: ', err)\n",
        "    print('Последний идентификатор вставленной строки: ', crs.lastrowid)\n",
        "else:\n",
        "    db1.commit()\n",
        "    print('Зaпpoc успешно выполнен')\n",
        "crs.close()"
      ]
    },
    {
      "cell_type": "code",
      "execution_count": 7,
      "metadata": {
        "colab": {
          "base_uri": "https://localhost:8080/"
        },
        "id": "CnZYSoH0W7qL",
        "outputId": "fdaddbb2-dfcf-4d1b-debf-7669a9a4df43"
      },
      "outputs": [
        {
          "output_type": "execute_result",
          "data": {
            "text/plain": [
              "[(3, 'Гастроэнтерологическое отделение'),\n",
              " (1, 'Кардиологическое отделение'),\n",
              " (2, 'Пульмонологическое отделение')]"
            ]
          },
          "metadata": {},
          "execution_count": 7
        }
      ],
      "source": [
        "r=[]\n",
        "crs=db1.cursor()\n",
        "c=crs.execute('SELECT * FROM deps ORDER BY name')\n",
        "for i in c:\n",
        "  r.append(i)\n",
        "r"
      ]
    },
    {
      "cell_type": "code",
      "execution_count": 8,
      "metadata": {
        "id": "nS0Vmy60XjTw"
      },
      "outputs": [],
      "source": [
        "crs.close()"
      ]
    },
    {
      "cell_type": "markdown",
      "metadata": {
        "id": "S9DOtfwDmFQE"
      },
      "source": [
        "Выполнение запросов к таблицам БД"
      ]
    },
    {
      "cell_type": "code",
      "execution_count": 9,
      "metadata": {
        "colab": {
          "base_uri": "https://localhost:8080/"
        },
        "id": "h1iCzoVJ64IH",
        "outputId": "843c5a53-fb58-4539-f725-aff8ac799d07"
      },
      "outputs": [
        {
          "output_type": "stream",
          "name": "stdout",
          "text": [
            "Результат запроса 1 ->  [(2, 'Пульмонолог')]\n",
            "Результат запроса 2 ->  [(1, 'Федоров', 'Илья', 'Васильевич', 1, 1), (6, 'Фаткуллин', 'Фарид', 'Ильдарович', 3, 2)]\n",
            "Результат запроса 3 -> \n",
            "('Федоров', 'Илья', 'Васильевич', 'Кардиологическое отделение', 'Кардиолог')\n",
            "('Мозгунова', 'Светлана', 'Яковлевна', 'Пульмонологическое отделение', 'Гастроэнтеролог')\n",
            "('Крапивова', 'Екатерина', 'Игоревна', 'Гастроэнтерологическое отделение', 'Пульмонолог')\n",
            "('Смирнов', 'Алексей', 'Михайлович', 'Кардиологическое отделение', 'Пульмонолог')\n",
            "('Арутян', 'Карен', 'Альбертович', 'Пульмонологическое отделение', 'Гастроэнтеролог')\n",
            "('Фаткуллин', 'Фарид', 'Ильдарович', 'Гастроэнтерологическое отделение', 'Пульмонолог')\n"
          ]
        }
      ],
      "source": [
        "import sqlite3\n",
        "db1=sqlite3.connect('3_5.db')\n",
        "crs=db1.cursor()\n",
        "\n",
        "#получение результата запроса при помощи fetchall\n",
        "sql='SELECT * FROM spec WHERE spec_id=?'\n",
        "crs.execute(sql,[2])\n",
        "print('Результат запроса 1 -> ',crs.fetchall())\n",
        "\n",
        "#получение результата запроса с опцией LIKE\n",
        "sql_1='SELECT * FROM doctor WHERE surname LIKE \"Ф%\"'\n",
        "crs.execute(sql_1)\n",
        "print('Результат запроса 2 -> ',crs.fetchall())\n",
        "\n",
        "#получение результата запроса с соединением 2-х таблиц\n",
        "sql_2='select doctor.surname, doctor.firstname, doctor. patronymic, deps.name, spec.name from deps inner join (spec inner join doctor ON spec.spec_id=doctor.spec_id) ON deps.dep_id=doctor.dep_id'\n",
        "crs.execute(sql_2)\n",
        "print('Результат запроса 3 -> ')\n",
        "res=crs.fetchall()\n",
        "for r in res:\n",
        "  print(r,end='\\n')\n",
        "crs.close()"
      ]
    },
    {
      "cell_type": "markdown",
      "metadata": {
        "id": "ByUjWPfaOp5C"
      },
      "source": [
        "Работа с библиотекой Pandas"
      ]
    },
    {
      "cell_type": "code",
      "execution_count": 10,
      "metadata": {
        "colab": {
          "base_uri": "https://localhost:8080/",
          "height": 206
        },
        "id": "lmvftqKT7kMG",
        "outputId": "a8f08f4a-0190-4a2b-d08a-dea3252704bf"
      },
      "outputs": [
        {
          "output_type": "execute_result",
          "data": {
            "text/plain": [
              "   index  id             FIO    DR\n",
              "0      0  22  Игнатьева А.Л.  2003\n",
              "1      1   3     Плохих М.А.  2002\n",
              "2      2   4    Сергеев А.Т.  2002\n",
              "3      3   5    Андреев И.П.  2004\n",
              "4      4   6  Перовский И.В.  2004"
            ],
            "text/html": [
              "\n",
              "  <div id=\"df-a1e009a2-8d60-4c0f-b338-528bf8fcba7a\" class=\"colab-df-container\">\n",
              "    <div>\n",
              "<style scoped>\n",
              "    .dataframe tbody tr th:only-of-type {\n",
              "        vertical-align: middle;\n",
              "    }\n",
              "\n",
              "    .dataframe tbody tr th {\n",
              "        vertical-align: top;\n",
              "    }\n",
              "\n",
              "    .dataframe thead th {\n",
              "        text-align: right;\n",
              "    }\n",
              "</style>\n",
              "<table border=\"1\" class=\"dataframe\">\n",
              "  <thead>\n",
              "    <tr style=\"text-align: right;\">\n",
              "      <th></th>\n",
              "      <th>index</th>\n",
              "      <th>id</th>\n",
              "      <th>FIO</th>\n",
              "      <th>DR</th>\n",
              "    </tr>\n",
              "  </thead>\n",
              "  <tbody>\n",
              "    <tr>\n",
              "      <th>0</th>\n",
              "      <td>0</td>\n",
              "      <td>22</td>\n",
              "      <td>Игнатьева А.Л.</td>\n",
              "      <td>2003</td>\n",
              "    </tr>\n",
              "    <tr>\n",
              "      <th>1</th>\n",
              "      <td>1</td>\n",
              "      <td>3</td>\n",
              "      <td>Плохих М.А.</td>\n",
              "      <td>2002</td>\n",
              "    </tr>\n",
              "    <tr>\n",
              "      <th>2</th>\n",
              "      <td>2</td>\n",
              "      <td>4</td>\n",
              "      <td>Сергеев А.Т.</td>\n",
              "      <td>2002</td>\n",
              "    </tr>\n",
              "    <tr>\n",
              "      <th>3</th>\n",
              "      <td>3</td>\n",
              "      <td>5</td>\n",
              "      <td>Андреев И.П.</td>\n",
              "      <td>2004</td>\n",
              "    </tr>\n",
              "    <tr>\n",
              "      <th>4</th>\n",
              "      <td>4</td>\n",
              "      <td>6</td>\n",
              "      <td>Перовский И.В.</td>\n",
              "      <td>2004</td>\n",
              "    </tr>\n",
              "  </tbody>\n",
              "</table>\n",
              "</div>\n",
              "    <div class=\"colab-df-buttons\">\n",
              "\n",
              "  <div class=\"colab-df-container\">\n",
              "    <button class=\"colab-df-convert\" onclick=\"convertToInteractive('df-a1e009a2-8d60-4c0f-b338-528bf8fcba7a')\"\n",
              "            title=\"Convert this dataframe to an interactive table.\"\n",
              "            style=\"display:none;\">\n",
              "\n",
              "  <svg xmlns=\"http://www.w3.org/2000/svg\" height=\"24px\" viewBox=\"0 -960 960 960\">\n",
              "    <path d=\"M120-120v-720h720v720H120Zm60-500h600v-160H180v160Zm220 220h160v-160H400v160Zm0 220h160v-160H400v160ZM180-400h160v-160H180v160Zm440 0h160v-160H620v160ZM180-180h160v-160H180v160Zm440 0h160v-160H620v160Z\"/>\n",
              "  </svg>\n",
              "    </button>\n",
              "\n",
              "  <style>\n",
              "    .colab-df-container {\n",
              "      display:flex;\n",
              "      gap: 12px;\n",
              "    }\n",
              "\n",
              "    .colab-df-convert {\n",
              "      background-color: #E8F0FE;\n",
              "      border: none;\n",
              "      border-radius: 50%;\n",
              "      cursor: pointer;\n",
              "      display: none;\n",
              "      fill: #1967D2;\n",
              "      height: 32px;\n",
              "      padding: 0 0 0 0;\n",
              "      width: 32px;\n",
              "    }\n",
              "\n",
              "    .colab-df-convert:hover {\n",
              "      background-color: #E2EBFA;\n",
              "      box-shadow: 0px 1px 2px rgba(60, 64, 67, 0.3), 0px 1px 3px 1px rgba(60, 64, 67, 0.15);\n",
              "      fill: #174EA6;\n",
              "    }\n",
              "\n",
              "    .colab-df-buttons div {\n",
              "      margin-bottom: 4px;\n",
              "    }\n",
              "\n",
              "    [theme=dark] .colab-df-convert {\n",
              "      background-color: #3B4455;\n",
              "      fill: #D2E3FC;\n",
              "    }\n",
              "\n",
              "    [theme=dark] .colab-df-convert:hover {\n",
              "      background-color: #434B5C;\n",
              "      box-shadow: 0px 1px 3px 1px rgba(0, 0, 0, 0.15);\n",
              "      filter: drop-shadow(0px 1px 2px rgba(0, 0, 0, 0.3));\n",
              "      fill: #FFFFFF;\n",
              "    }\n",
              "  </style>\n",
              "\n",
              "    <script>\n",
              "      const buttonEl =\n",
              "        document.querySelector('#df-a1e009a2-8d60-4c0f-b338-528bf8fcba7a button.colab-df-convert');\n",
              "      buttonEl.style.display =\n",
              "        google.colab.kernel.accessAllowed ? 'block' : 'none';\n",
              "\n",
              "      async function convertToInteractive(key) {\n",
              "        const element = document.querySelector('#df-a1e009a2-8d60-4c0f-b338-528bf8fcba7a');\n",
              "        const dataTable =\n",
              "          await google.colab.kernel.invokeFunction('convertToInteractive',\n",
              "                                                    [key], {});\n",
              "        if (!dataTable) return;\n",
              "\n",
              "        const docLinkHtml = 'Like what you see? Visit the ' +\n",
              "          '<a target=\"_blank\" href=https://colab.research.google.com/notebooks/data_table.ipynb>data table notebook</a>'\n",
              "          + ' to learn more about interactive tables.';\n",
              "        element.innerHTML = '';\n",
              "        dataTable['output_type'] = 'display_data';\n",
              "        await google.colab.output.renderOutput(dataTable, element);\n",
              "        const docLink = document.createElement('div');\n",
              "        docLink.innerHTML = docLinkHtml;\n",
              "        element.appendChild(docLink);\n",
              "      }\n",
              "    </script>\n",
              "  </div>\n",
              "\n",
              "\n",
              "<div id=\"df-fff42d7b-71cb-4b06-8e32-6a7aaf6ffc69\">\n",
              "  <button class=\"colab-df-quickchart\" onclick=\"quickchart('df-fff42d7b-71cb-4b06-8e32-6a7aaf6ffc69')\"\n",
              "            title=\"Suggest charts\"\n",
              "            style=\"display:none;\">\n",
              "\n",
              "<svg xmlns=\"http://www.w3.org/2000/svg\" height=\"24px\"viewBox=\"0 0 24 24\"\n",
              "     width=\"24px\">\n",
              "    <g>\n",
              "        <path d=\"M19 3H5c-1.1 0-2 .9-2 2v14c0 1.1.9 2 2 2h14c1.1 0 2-.9 2-2V5c0-1.1-.9-2-2-2zM9 17H7v-7h2v7zm4 0h-2V7h2v10zm4 0h-2v-4h2v4z\"/>\n",
              "    </g>\n",
              "</svg>\n",
              "  </button>\n",
              "\n",
              "<style>\n",
              "  .colab-df-quickchart {\n",
              "      --bg-color: #E8F0FE;\n",
              "      --fill-color: #1967D2;\n",
              "      --hover-bg-color: #E2EBFA;\n",
              "      --hover-fill-color: #174EA6;\n",
              "      --disabled-fill-color: #AAA;\n",
              "      --disabled-bg-color: #DDD;\n",
              "  }\n",
              "\n",
              "  [theme=dark] .colab-df-quickchart {\n",
              "      --bg-color: #3B4455;\n",
              "      --fill-color: #D2E3FC;\n",
              "      --hover-bg-color: #434B5C;\n",
              "      --hover-fill-color: #FFFFFF;\n",
              "      --disabled-bg-color: #3B4455;\n",
              "      --disabled-fill-color: #666;\n",
              "  }\n",
              "\n",
              "  .colab-df-quickchart {\n",
              "    background-color: var(--bg-color);\n",
              "    border: none;\n",
              "    border-radius: 50%;\n",
              "    cursor: pointer;\n",
              "    display: none;\n",
              "    fill: var(--fill-color);\n",
              "    height: 32px;\n",
              "    padding: 0;\n",
              "    width: 32px;\n",
              "  }\n",
              "\n",
              "  .colab-df-quickchart:hover {\n",
              "    background-color: var(--hover-bg-color);\n",
              "    box-shadow: 0 1px 2px rgba(60, 64, 67, 0.3), 0 1px 3px 1px rgba(60, 64, 67, 0.15);\n",
              "    fill: var(--button-hover-fill-color);\n",
              "  }\n",
              "\n",
              "  .colab-df-quickchart-complete:disabled,\n",
              "  .colab-df-quickchart-complete:disabled:hover {\n",
              "    background-color: var(--disabled-bg-color);\n",
              "    fill: var(--disabled-fill-color);\n",
              "    box-shadow: none;\n",
              "  }\n",
              "\n",
              "  .colab-df-spinner {\n",
              "    border: 2px solid var(--fill-color);\n",
              "    border-color: transparent;\n",
              "    border-bottom-color: var(--fill-color);\n",
              "    animation:\n",
              "      spin 1s steps(1) infinite;\n",
              "  }\n",
              "\n",
              "  @keyframes spin {\n",
              "    0% {\n",
              "      border-color: transparent;\n",
              "      border-bottom-color: var(--fill-color);\n",
              "      border-left-color: var(--fill-color);\n",
              "    }\n",
              "    20% {\n",
              "      border-color: transparent;\n",
              "      border-left-color: var(--fill-color);\n",
              "      border-top-color: var(--fill-color);\n",
              "    }\n",
              "    30% {\n",
              "      border-color: transparent;\n",
              "      border-left-color: var(--fill-color);\n",
              "      border-top-color: var(--fill-color);\n",
              "      border-right-color: var(--fill-color);\n",
              "    }\n",
              "    40% {\n",
              "      border-color: transparent;\n",
              "      border-right-color: var(--fill-color);\n",
              "      border-top-color: var(--fill-color);\n",
              "    }\n",
              "    60% {\n",
              "      border-color: transparent;\n",
              "      border-right-color: var(--fill-color);\n",
              "    }\n",
              "    80% {\n",
              "      border-color: transparent;\n",
              "      border-right-color: var(--fill-color);\n",
              "      border-bottom-color: var(--fill-color);\n",
              "    }\n",
              "    90% {\n",
              "      border-color: transparent;\n",
              "      border-bottom-color: var(--fill-color);\n",
              "    }\n",
              "  }\n",
              "</style>\n",
              "\n",
              "  <script>\n",
              "    async function quickchart(key) {\n",
              "      const quickchartButtonEl =\n",
              "        document.querySelector('#' + key + ' button');\n",
              "      quickchartButtonEl.disabled = true;  // To prevent multiple clicks.\n",
              "      quickchartButtonEl.classList.add('colab-df-spinner');\n",
              "      try {\n",
              "        const charts = await google.colab.kernel.invokeFunction(\n",
              "            'suggestCharts', [key], {});\n",
              "      } catch (error) {\n",
              "        console.error('Error during call to suggestCharts:', error);\n",
              "      }\n",
              "      quickchartButtonEl.classList.remove('colab-df-spinner');\n",
              "      quickchartButtonEl.classList.add('colab-df-quickchart-complete');\n",
              "    }\n",
              "    (() => {\n",
              "      let quickchartButtonEl =\n",
              "        document.querySelector('#df-fff42d7b-71cb-4b06-8e32-6a7aaf6ffc69 button');\n",
              "      quickchartButtonEl.style.display =\n",
              "        google.colab.kernel.accessAllowed ? 'block' : 'none';\n",
              "    })();\n",
              "  </script>\n",
              "</div>\n",
              "    </div>\n",
              "  </div>\n"
            ],
            "application/vnd.google.colaboratory.intrinsic+json": {
              "type": "dataframe",
              "variable_name": "df",
              "summary": "{\n  \"name\": \"df\",\n  \"rows\": 5,\n  \"fields\": [\n    {\n      \"column\": \"index\",\n      \"properties\": {\n        \"dtype\": \"number\",\n        \"std\": 1,\n        \"min\": 0,\n        \"max\": 4,\n        \"num_unique_values\": 5,\n        \"samples\": [\n          1,\n          4,\n          2\n        ],\n        \"semantic_type\": \"\",\n        \"description\": \"\"\n      }\n    },\n    {\n      \"column\": \"id\",\n      \"properties\": {\n        \"dtype\": \"number\",\n        \"std\": 7,\n        \"min\": 3,\n        \"max\": 22,\n        \"num_unique_values\": 5,\n        \"samples\": [\n          3,\n          6,\n          4\n        ],\n        \"semantic_type\": \"\",\n        \"description\": \"\"\n      }\n    },\n    {\n      \"column\": \"FIO\",\n      \"properties\": {\n        \"dtype\": \"string\",\n        \"num_unique_values\": 5,\n        \"samples\": [\n          \"\\u041f\\u043b\\u043e\\u0445\\u0438\\u0445 \\u041c.\\u0410.\",\n          \"\\u041f\\u0435\\u0440\\u043e\\u0432\\u0441\\u043a\\u0438\\u0439 \\u0418.\\u0412.\",\n          \"\\u0421\\u0435\\u0440\\u0433\\u0435\\u0435\\u0432 \\u0410.\\u0422.\"\n        ],\n        \"semantic_type\": \"\",\n        \"description\": \"\"\n      }\n    },\n    {\n      \"column\": \"DR\",\n      \"properties\": {\n        \"dtype\": \"object\",\n        \"num_unique_values\": 3,\n        \"samples\": [\n          \"2003\",\n          \"2002\",\n          \"2004\"\n        ],\n        \"semantic_type\": \"\",\n        \"description\": \"\"\n      }\n    }\n  ]\n}"
            }
          },
          "metadata": {},
          "execution_count": 10
        }
      ],
      "source": [
        "import pandas as pd\n",
        "import sqlite3\n",
        "\n",
        "db3=sqlite3.connect('3_5.db')\n",
        "#df=pd.read_sql('CREATE TABLE patients (id integer PRIMARY KEY, FIO text, DR text)',db3)\n",
        "#df=pd.read_sql('INSERT INTO patients(id,FIO, DR) VALUES (22,\"Игнатьева А.Л.\",\"2003\")',db3)\n",
        "df=pd.DataFrame([[22,'Игнатьева А.Л.','2003'],[3,'Плохих М.А.','2002'],[4,'Сергеев А.Т.','2002'],[5,'Андреев И.П.','2004'],[6,'Перовский И.В.','2004']],columns=['id','FIO','DR'])\n",
        "df.to_sql('patients',db3,if_exists='replace')\n",
        "df=pd.read_sql_query('SELECT * FROM patients limit 5;',db3)\n",
        "df"
      ]
    },
    {
      "cell_type": "code",
      "execution_count": 11,
      "metadata": {
        "id": "1GnAA_i9SVUb"
      },
      "outputs": [],
      "source": [
        "cur_2=db3.cursor()\n",
        "cur_2.execute('ALTER TABLE patients ADD COLUMN gender nchar(3);');"
      ]
    },
    {
      "cell_type": "code",
      "execution_count": 12,
      "metadata": {
        "id": "iEht-AbeStPh",
        "colab": {
          "base_uri": "https://localhost:8080/",
          "height": 206
        },
        "outputId": "f16a0ae8-a07c-4e7c-a6f2-a01922176438"
      },
      "outputs": [
        {
          "output_type": "execute_result",
          "data": {
            "text/plain": [
              "   index  id             FIO    DR gender\n",
              "0      0  22  Игнатьева А.Л.  2003   None\n",
              "1      1   3     Плохих М.А.  2002   None\n",
              "2      2   4    Сергеев А.Т.  2002   None\n",
              "3      3   5    Андреев И.П.  2004   None\n",
              "4      4   6  Перовский И.В.  2004   None"
            ],
            "text/html": [
              "\n",
              "  <div id=\"df-12589439-9b95-4a81-b08d-bf892936a88d\" class=\"colab-df-container\">\n",
              "    <div>\n",
              "<style scoped>\n",
              "    .dataframe tbody tr th:only-of-type {\n",
              "        vertical-align: middle;\n",
              "    }\n",
              "\n",
              "    .dataframe tbody tr th {\n",
              "        vertical-align: top;\n",
              "    }\n",
              "\n",
              "    .dataframe thead th {\n",
              "        text-align: right;\n",
              "    }\n",
              "</style>\n",
              "<table border=\"1\" class=\"dataframe\">\n",
              "  <thead>\n",
              "    <tr style=\"text-align: right;\">\n",
              "      <th></th>\n",
              "      <th>index</th>\n",
              "      <th>id</th>\n",
              "      <th>FIO</th>\n",
              "      <th>DR</th>\n",
              "      <th>gender</th>\n",
              "    </tr>\n",
              "  </thead>\n",
              "  <tbody>\n",
              "    <tr>\n",
              "      <th>0</th>\n",
              "      <td>0</td>\n",
              "      <td>22</td>\n",
              "      <td>Игнатьева А.Л.</td>\n",
              "      <td>2003</td>\n",
              "      <td>None</td>\n",
              "    </tr>\n",
              "    <tr>\n",
              "      <th>1</th>\n",
              "      <td>1</td>\n",
              "      <td>3</td>\n",
              "      <td>Плохих М.А.</td>\n",
              "      <td>2002</td>\n",
              "      <td>None</td>\n",
              "    </tr>\n",
              "    <tr>\n",
              "      <th>2</th>\n",
              "      <td>2</td>\n",
              "      <td>4</td>\n",
              "      <td>Сергеев А.Т.</td>\n",
              "      <td>2002</td>\n",
              "      <td>None</td>\n",
              "    </tr>\n",
              "    <tr>\n",
              "      <th>3</th>\n",
              "      <td>3</td>\n",
              "      <td>5</td>\n",
              "      <td>Андреев И.П.</td>\n",
              "      <td>2004</td>\n",
              "      <td>None</td>\n",
              "    </tr>\n",
              "    <tr>\n",
              "      <th>4</th>\n",
              "      <td>4</td>\n",
              "      <td>6</td>\n",
              "      <td>Перовский И.В.</td>\n",
              "      <td>2004</td>\n",
              "      <td>None</td>\n",
              "    </tr>\n",
              "  </tbody>\n",
              "</table>\n",
              "</div>\n",
              "    <div class=\"colab-df-buttons\">\n",
              "\n",
              "  <div class=\"colab-df-container\">\n",
              "    <button class=\"colab-df-convert\" onclick=\"convertToInteractive('df-12589439-9b95-4a81-b08d-bf892936a88d')\"\n",
              "            title=\"Convert this dataframe to an interactive table.\"\n",
              "            style=\"display:none;\">\n",
              "\n",
              "  <svg xmlns=\"http://www.w3.org/2000/svg\" height=\"24px\" viewBox=\"0 -960 960 960\">\n",
              "    <path d=\"M120-120v-720h720v720H120Zm60-500h600v-160H180v160Zm220 220h160v-160H400v160Zm0 220h160v-160H400v160ZM180-400h160v-160H180v160Zm440 0h160v-160H620v160ZM180-180h160v-160H180v160Zm440 0h160v-160H620v160Z\"/>\n",
              "  </svg>\n",
              "    </button>\n",
              "\n",
              "  <style>\n",
              "    .colab-df-container {\n",
              "      display:flex;\n",
              "      gap: 12px;\n",
              "    }\n",
              "\n",
              "    .colab-df-convert {\n",
              "      background-color: #E8F0FE;\n",
              "      border: none;\n",
              "      border-radius: 50%;\n",
              "      cursor: pointer;\n",
              "      display: none;\n",
              "      fill: #1967D2;\n",
              "      height: 32px;\n",
              "      padding: 0 0 0 0;\n",
              "      width: 32px;\n",
              "    }\n",
              "\n",
              "    .colab-df-convert:hover {\n",
              "      background-color: #E2EBFA;\n",
              "      box-shadow: 0px 1px 2px rgba(60, 64, 67, 0.3), 0px 1px 3px 1px rgba(60, 64, 67, 0.15);\n",
              "      fill: #174EA6;\n",
              "    }\n",
              "\n",
              "    .colab-df-buttons div {\n",
              "      margin-bottom: 4px;\n",
              "    }\n",
              "\n",
              "    [theme=dark] .colab-df-convert {\n",
              "      background-color: #3B4455;\n",
              "      fill: #D2E3FC;\n",
              "    }\n",
              "\n",
              "    [theme=dark] .colab-df-convert:hover {\n",
              "      background-color: #434B5C;\n",
              "      box-shadow: 0px 1px 3px 1px rgba(0, 0, 0, 0.15);\n",
              "      filter: drop-shadow(0px 1px 2px rgba(0, 0, 0, 0.3));\n",
              "      fill: #FFFFFF;\n",
              "    }\n",
              "  </style>\n",
              "\n",
              "    <script>\n",
              "      const buttonEl =\n",
              "        document.querySelector('#df-12589439-9b95-4a81-b08d-bf892936a88d button.colab-df-convert');\n",
              "      buttonEl.style.display =\n",
              "        google.colab.kernel.accessAllowed ? 'block' : 'none';\n",
              "\n",
              "      async function convertToInteractive(key) {\n",
              "        const element = document.querySelector('#df-12589439-9b95-4a81-b08d-bf892936a88d');\n",
              "        const dataTable =\n",
              "          await google.colab.kernel.invokeFunction('convertToInteractive',\n",
              "                                                    [key], {});\n",
              "        if (!dataTable) return;\n",
              "\n",
              "        const docLinkHtml = 'Like what you see? Visit the ' +\n",
              "          '<a target=\"_blank\" href=https://colab.research.google.com/notebooks/data_table.ipynb>data table notebook</a>'\n",
              "          + ' to learn more about interactive tables.';\n",
              "        element.innerHTML = '';\n",
              "        dataTable['output_type'] = 'display_data';\n",
              "        await google.colab.output.renderOutput(dataTable, element);\n",
              "        const docLink = document.createElement('div');\n",
              "        docLink.innerHTML = docLinkHtml;\n",
              "        element.appendChild(docLink);\n",
              "      }\n",
              "    </script>\n",
              "  </div>\n",
              "\n",
              "\n",
              "<div id=\"df-c7230c45-6570-400d-adfe-d7429a7d8f06\">\n",
              "  <button class=\"colab-df-quickchart\" onclick=\"quickchart('df-c7230c45-6570-400d-adfe-d7429a7d8f06')\"\n",
              "            title=\"Suggest charts\"\n",
              "            style=\"display:none;\">\n",
              "\n",
              "<svg xmlns=\"http://www.w3.org/2000/svg\" height=\"24px\"viewBox=\"0 0 24 24\"\n",
              "     width=\"24px\">\n",
              "    <g>\n",
              "        <path d=\"M19 3H5c-1.1 0-2 .9-2 2v14c0 1.1.9 2 2 2h14c1.1 0 2-.9 2-2V5c0-1.1-.9-2-2-2zM9 17H7v-7h2v7zm4 0h-2V7h2v10zm4 0h-2v-4h2v4z\"/>\n",
              "    </g>\n",
              "</svg>\n",
              "  </button>\n",
              "\n",
              "<style>\n",
              "  .colab-df-quickchart {\n",
              "      --bg-color: #E8F0FE;\n",
              "      --fill-color: #1967D2;\n",
              "      --hover-bg-color: #E2EBFA;\n",
              "      --hover-fill-color: #174EA6;\n",
              "      --disabled-fill-color: #AAA;\n",
              "      --disabled-bg-color: #DDD;\n",
              "  }\n",
              "\n",
              "  [theme=dark] .colab-df-quickchart {\n",
              "      --bg-color: #3B4455;\n",
              "      --fill-color: #D2E3FC;\n",
              "      --hover-bg-color: #434B5C;\n",
              "      --hover-fill-color: #FFFFFF;\n",
              "      --disabled-bg-color: #3B4455;\n",
              "      --disabled-fill-color: #666;\n",
              "  }\n",
              "\n",
              "  .colab-df-quickchart {\n",
              "    background-color: var(--bg-color);\n",
              "    border: none;\n",
              "    border-radius: 50%;\n",
              "    cursor: pointer;\n",
              "    display: none;\n",
              "    fill: var(--fill-color);\n",
              "    height: 32px;\n",
              "    padding: 0;\n",
              "    width: 32px;\n",
              "  }\n",
              "\n",
              "  .colab-df-quickchart:hover {\n",
              "    background-color: var(--hover-bg-color);\n",
              "    box-shadow: 0 1px 2px rgba(60, 64, 67, 0.3), 0 1px 3px 1px rgba(60, 64, 67, 0.15);\n",
              "    fill: var(--button-hover-fill-color);\n",
              "  }\n",
              "\n",
              "  .colab-df-quickchart-complete:disabled,\n",
              "  .colab-df-quickchart-complete:disabled:hover {\n",
              "    background-color: var(--disabled-bg-color);\n",
              "    fill: var(--disabled-fill-color);\n",
              "    box-shadow: none;\n",
              "  }\n",
              "\n",
              "  .colab-df-spinner {\n",
              "    border: 2px solid var(--fill-color);\n",
              "    border-color: transparent;\n",
              "    border-bottom-color: var(--fill-color);\n",
              "    animation:\n",
              "      spin 1s steps(1) infinite;\n",
              "  }\n",
              "\n",
              "  @keyframes spin {\n",
              "    0% {\n",
              "      border-color: transparent;\n",
              "      border-bottom-color: var(--fill-color);\n",
              "      border-left-color: var(--fill-color);\n",
              "    }\n",
              "    20% {\n",
              "      border-color: transparent;\n",
              "      border-left-color: var(--fill-color);\n",
              "      border-top-color: var(--fill-color);\n",
              "    }\n",
              "    30% {\n",
              "      border-color: transparent;\n",
              "      border-left-color: var(--fill-color);\n",
              "      border-top-color: var(--fill-color);\n",
              "      border-right-color: var(--fill-color);\n",
              "    }\n",
              "    40% {\n",
              "      border-color: transparent;\n",
              "      border-right-color: var(--fill-color);\n",
              "      border-top-color: var(--fill-color);\n",
              "    }\n",
              "    60% {\n",
              "      border-color: transparent;\n",
              "      border-right-color: var(--fill-color);\n",
              "    }\n",
              "    80% {\n",
              "      border-color: transparent;\n",
              "      border-right-color: var(--fill-color);\n",
              "      border-bottom-color: var(--fill-color);\n",
              "    }\n",
              "    90% {\n",
              "      border-color: transparent;\n",
              "      border-bottom-color: var(--fill-color);\n",
              "    }\n",
              "  }\n",
              "</style>\n",
              "\n",
              "  <script>\n",
              "    async function quickchart(key) {\n",
              "      const quickchartButtonEl =\n",
              "        document.querySelector('#' + key + ' button');\n",
              "      quickchartButtonEl.disabled = true;  // To prevent multiple clicks.\n",
              "      quickchartButtonEl.classList.add('colab-df-spinner');\n",
              "      try {\n",
              "        const charts = await google.colab.kernel.invokeFunction(\n",
              "            'suggestCharts', [key], {});\n",
              "      } catch (error) {\n",
              "        console.error('Error during call to suggestCharts:', error);\n",
              "      }\n",
              "      quickchartButtonEl.classList.remove('colab-df-spinner');\n",
              "      quickchartButtonEl.classList.add('colab-df-quickchart-complete');\n",
              "    }\n",
              "    (() => {\n",
              "      let quickchartButtonEl =\n",
              "        document.querySelector('#df-c7230c45-6570-400d-adfe-d7429a7d8f06 button');\n",
              "      quickchartButtonEl.style.display =\n",
              "        google.colab.kernel.accessAllowed ? 'block' : 'none';\n",
              "    })();\n",
              "  </script>\n",
              "</div>\n",
              "    </div>\n",
              "  </div>\n"
            ],
            "application/vnd.google.colaboratory.intrinsic+json": {
              "type": "dataframe",
              "repr_error": "Out of range float values are not JSON compliant: nan"
            }
          },
          "metadata": {},
          "execution_count": 12
        }
      ],
      "source": [
        "table_name='patients'\n",
        "pd.read_sql_query('select * from '+table_name+';',db3)"
      ]
    },
    {
      "cell_type": "code",
      "execution_count": 13,
      "metadata": {
        "id": "YO4AsgFfUFJd",
        "colab": {
          "base_uri": "https://localhost:8080/"
        },
        "outputId": "a8232eb3-8134-42cb-8931-e65b4ca2a0af"
      },
      "outputs": [
        {
          "output_type": "execute_result",
          "data": {
            "text/plain": [
              "5"
            ]
          },
          "metadata": {},
          "execution_count": 13
        }
      ],
      "source": [
        "df=pd.read_sql('SELECT * FROM  patients',db3)\n",
        "df['gender']=None\n",
        "df.to_sql('patients',db3,if_exists='replace')"
      ]
    },
    {
      "cell_type": "code",
      "execution_count": 16,
      "metadata": {
        "colab": {
          "base_uri": "https://localhost:8080/",
          "height": 80
        },
        "id": "pGJsK8nuCMa2",
        "outputId": "1a64af41-7cae-47cb-c16f-cc0bc6573795"
      },
      "outputs": [
        {
          "output_type": "execute_result",
          "data": {
            "text/plain": [
              "   index  id    FIO_prep                       subject              Lec_beg  \\\n",
              "0      0   1  Sergeev BB  Пульмонологическое отделение  2023-11-29 12:20:00   \n",
              "\n",
              "               Lec_end  \n",
              "0  2023-12-29 13:55:00  "
            ],
            "text/html": [
              "\n",
              "  <div id=\"df-4cc95c3c-21f7-4adf-81c3-83e4a0cfe94e\" class=\"colab-df-container\">\n",
              "    <div>\n",
              "<style scoped>\n",
              "    .dataframe tbody tr th:only-of-type {\n",
              "        vertical-align: middle;\n",
              "    }\n",
              "\n",
              "    .dataframe tbody tr th {\n",
              "        vertical-align: top;\n",
              "    }\n",
              "\n",
              "    .dataframe thead th {\n",
              "        text-align: right;\n",
              "    }\n",
              "</style>\n",
              "<table border=\"1\" class=\"dataframe\">\n",
              "  <thead>\n",
              "    <tr style=\"text-align: right;\">\n",
              "      <th></th>\n",
              "      <th>index</th>\n",
              "      <th>id</th>\n",
              "      <th>FIO_prep</th>\n",
              "      <th>subject</th>\n",
              "      <th>Lec_beg</th>\n",
              "      <th>Lec_end</th>\n",
              "    </tr>\n",
              "  </thead>\n",
              "  <tbody>\n",
              "    <tr>\n",
              "      <th>0</th>\n",
              "      <td>0</td>\n",
              "      <td>1</td>\n",
              "      <td>Sergeev BB</td>\n",
              "      <td>Пульмонологическое отделение</td>\n",
              "      <td>2023-11-29 12:20:00</td>\n",
              "      <td>2023-12-29 13:55:00</td>\n",
              "    </tr>\n",
              "  </tbody>\n",
              "</table>\n",
              "</div>\n",
              "    <div class=\"colab-df-buttons\">\n",
              "\n",
              "  <div class=\"colab-df-container\">\n",
              "    <button class=\"colab-df-convert\" onclick=\"convertToInteractive('df-4cc95c3c-21f7-4adf-81c3-83e4a0cfe94e')\"\n",
              "            title=\"Convert this dataframe to an interactive table.\"\n",
              "            style=\"display:none;\">\n",
              "\n",
              "  <svg xmlns=\"http://www.w3.org/2000/svg\" height=\"24px\" viewBox=\"0 -960 960 960\">\n",
              "    <path d=\"M120-120v-720h720v720H120Zm60-500h600v-160H180v160Zm220 220h160v-160H400v160Zm0 220h160v-160H400v160ZM180-400h160v-160H180v160Zm440 0h160v-160H620v160ZM180-180h160v-160H180v160Zm440 0h160v-160H620v160Z\"/>\n",
              "  </svg>\n",
              "    </button>\n",
              "\n",
              "  <style>\n",
              "    .colab-df-container {\n",
              "      display:flex;\n",
              "      gap: 12px;\n",
              "    }\n",
              "\n",
              "    .colab-df-convert {\n",
              "      background-color: #E8F0FE;\n",
              "      border: none;\n",
              "      border-radius: 50%;\n",
              "      cursor: pointer;\n",
              "      display: none;\n",
              "      fill: #1967D2;\n",
              "      height: 32px;\n",
              "      padding: 0 0 0 0;\n",
              "      width: 32px;\n",
              "    }\n",
              "\n",
              "    .colab-df-convert:hover {\n",
              "      background-color: #E2EBFA;\n",
              "      box-shadow: 0px 1px 2px rgba(60, 64, 67, 0.3), 0px 1px 3px 1px rgba(60, 64, 67, 0.15);\n",
              "      fill: #174EA6;\n",
              "    }\n",
              "\n",
              "    .colab-df-buttons div {\n",
              "      margin-bottom: 4px;\n",
              "    }\n",
              "\n",
              "    [theme=dark] .colab-df-convert {\n",
              "      background-color: #3B4455;\n",
              "      fill: #D2E3FC;\n",
              "    }\n",
              "\n",
              "    [theme=dark] .colab-df-convert:hover {\n",
              "      background-color: #434B5C;\n",
              "      box-shadow: 0px 1px 3px 1px rgba(0, 0, 0, 0.15);\n",
              "      filter: drop-shadow(0px 1px 2px rgba(0, 0, 0, 0.3));\n",
              "      fill: #FFFFFF;\n",
              "    }\n",
              "  </style>\n",
              "\n",
              "    <script>\n",
              "      const buttonEl =\n",
              "        document.querySelector('#df-4cc95c3c-21f7-4adf-81c3-83e4a0cfe94e button.colab-df-convert');\n",
              "      buttonEl.style.display =\n",
              "        google.colab.kernel.accessAllowed ? 'block' : 'none';\n",
              "\n",
              "      async function convertToInteractive(key) {\n",
              "        const element = document.querySelector('#df-4cc95c3c-21f7-4adf-81c3-83e4a0cfe94e');\n",
              "        const dataTable =\n",
              "          await google.colab.kernel.invokeFunction('convertToInteractive',\n",
              "                                                    [key], {});\n",
              "        if (!dataTable) return;\n",
              "\n",
              "        const docLinkHtml = 'Like what you see? Visit the ' +\n",
              "          '<a target=\"_blank\" href=https://colab.research.google.com/notebooks/data_table.ipynb>data table notebook</a>'\n",
              "          + ' to learn more about interactive tables.';\n",
              "        element.innerHTML = '';\n",
              "        dataTable['output_type'] = 'display_data';\n",
              "        await google.colab.output.renderOutput(dataTable, element);\n",
              "        const docLink = document.createElement('div');\n",
              "        docLink.innerHTML = docLinkHtml;\n",
              "        element.appendChild(docLink);\n",
              "      }\n",
              "    </script>\n",
              "  </div>\n",
              "\n",
              "    </div>\n",
              "  </div>\n"
            ],
            "application/vnd.google.colaboratory.intrinsic+json": {
              "type": "dataframe",
              "summary": "{\n  \"name\": \"pd\",\n  \"rows\": 1,\n  \"fields\": [\n    {\n      \"column\": \"index\",\n      \"properties\": {\n        \"dtype\": \"number\",\n        \"std\": null,\n        \"min\": 0,\n        \"max\": 0,\n        \"num_unique_values\": 1,\n        \"samples\": [\n          0\n        ],\n        \"semantic_type\": \"\",\n        \"description\": \"\"\n      }\n    },\n    {\n      \"column\": \"id\",\n      \"properties\": {\n        \"dtype\": \"number\",\n        \"std\": null,\n        \"min\": 1,\n        \"max\": 1,\n        \"num_unique_values\": 1,\n        \"samples\": [\n          1\n        ],\n        \"semantic_type\": \"\",\n        \"description\": \"\"\n      }\n    },\n    {\n      \"column\": \"FIO_prep\",\n      \"properties\": {\n        \"dtype\": \"string\",\n        \"num_unique_values\": 1,\n        \"samples\": [\n          \"Sergeev BB\"\n        ],\n        \"semantic_type\": \"\",\n        \"description\": \"\"\n      }\n    },\n    {\n      \"column\": \"subject\",\n      \"properties\": {\n        \"dtype\": \"string\",\n        \"num_unique_values\": 1,\n        \"samples\": [\n          \"\\u041f\\u0443\\u043b\\u044c\\u043c\\u043e\\u043d\\u043e\\u043b\\u043e\\u0433\\u0438\\u0447\\u0435\\u0441\\u043a\\u043e\\u0435 \\u043e\\u0442\\u0434\\u0435\\u043b\\u0435\\u043d\\u0438\\u0435\"\n        ],\n        \"semantic_type\": \"\",\n        \"description\": \"\"\n      }\n    },\n    {\n      \"column\": \"Lec_beg\",\n      \"properties\": {\n        \"dtype\": \"object\",\n        \"num_unique_values\": 1,\n        \"samples\": [\n          \"2023-11-29 12:20:00\"\n        ],\n        \"semantic_type\": \"\",\n        \"description\": \"\"\n      }\n    },\n    {\n      \"column\": \"Lec_end\",\n      \"properties\": {\n        \"dtype\": \"object\",\n        \"num_unique_values\": 1,\n        \"samples\": [\n          \"2023-12-29 13:55:00\"\n        ],\n        \"semantic_type\": \"\",\n        \"description\": \"\"\n      }\n    }\n  ]\n}"
            }
          },
          "metadata": {},
          "execution_count": 16
        }
      ],
      "source": [
        "from datetime import datetime\n",
        "df=pd.DataFrame([[1,'Sergeev BB','Пульмонологическое отделение',datetime(2023,11,29,12,20), datetime(2023,12,29,13,55)]],\n",
        "                columns=['id','FIO_prep','subject','Lec_beg','Lec_end'])\n",
        "df.to_sql('Report1',db3,if_exists='replace')\n",
        "pd.read_sql_query('select * from Report1;',db3)\n",
        "table_name='Report1'\n",
        "#crs.execute('alter table Report1 add column room integer')\n",
        "pd.read_sql_query('select * from '+table_name+';',db3)\n",
        "\n"
      ]
    },
    {
      "cell_type": "markdown",
      "metadata": {
        "id": "aQXXbAI3_IAP"
      },
      "source": [
        "что почитать по Pandas: https://pandas.pydata.org/pandas-docs/stable/getting_started/comparison/comparison_with_sql.html"
      ]
    },
    {
      "cell_type": "markdown",
      "metadata": {
        "id": "_qT6Pj_zoTTM"
      },
      "source": []
    },
    {
      "cell_type": "markdown",
      "metadata": {
        "id": "N6-6-JMebKEU"
      },
      "source": [
        "#Доступ к базам данных MySQL"
      ]
    },
    {
      "cell_type": "code",
      "execution_count": 17,
      "metadata": {
        "colab": {
          "base_uri": "https://localhost:8080/"
        },
        "id": "DWY0QYQhbNIa",
        "outputId": "24e75773-9d04-423a-c005-a5c05c3125e0"
      },
      "outputs": [
        {
          "output_type": "stream",
          "name": "stdout",
          "text": [
            "Collecting mysql-connector-python\n",
            "  Downloading mysql_connector_python-9.2.0-cp311-cp311-manylinux_2_28_x86_64.whl.metadata (6.0 kB)\n",
            "Downloading mysql_connector_python-9.2.0-cp311-cp311-manylinux_2_28_x86_64.whl (34.0 MB)\n",
            "\u001b[2K   \u001b[90m━━━━━━━━━━━━━━━━━━━━━━━━━━━━━━━━━━━━━━━━\u001b[0m \u001b[32m34.0/34.0 MB\u001b[0m \u001b[31m55.0 MB/s\u001b[0m eta \u001b[36m0:00:00\u001b[0m\n",
            "\u001b[?25hInstalling collected packages: mysql-connector-python\n",
            "Successfully installed mysql-connector-python-9.2.0\n"
          ]
        }
      ],
      "source": [
        "pip install mysql-connector-python"
      ]
    },
    {
      "cell_type": "code",
      "execution_count": 18,
      "metadata": {
        "colab": {
          "base_uri": "https://localhost:8080/"
        },
        "id": "mv9WHmOebdTZ",
        "outputId": "5d71de9c-935f-44d3-9638-a3d9799129fa"
      },
      "outputs": [
        {
          "output_type": "stream",
          "name": "stdout",
          "text": [
            "Имя пользователя: root\n",
            "Пароль: ··········\n",
            "2002: Can't connect to local MySQL server through socket '%-.100s' (%s) (Warning: not all arguments converted during string formatting)\n"
          ]
        }
      ],
      "source": [
        "from getpass import getpass\n",
        "from mysql.connector import connect, Error\n",
        "\n",
        "try:\n",
        "    with connect(\n",
        "        host=\"localhost\",\n",
        "        user=input(\"Имя пользователя: \"),\n",
        "        password=getpass(\"Пароль: \"),\n",
        "    ) as connection:\n",
        "        create_db_query = \"CREATE DATABASE test_1\"\n",
        "        with connection.cursor() as cursor:\n",
        "            cursor.execute(create_db_query)\n",
        "except Error as e:\n",
        "    print(e)"
      ]
    },
    {
      "cell_type": "code",
      "execution_count": null,
      "metadata": {
        "colab": {
          "base_uri": "https://localhost:8080/"
        },
        "id": "MCiM6gfTcFG7",
        "outputId": "0446f7ad-ab9c-4cae-d214-a8b77b44e0a3"
      },
      "outputs": [
        {
          "name": "stdout",
          "output_type": "stream",
          "text": [
            "Введите имя пользователя: root\n",
            "Введите пароль: ··········\n",
            "2003 (HY000): Can't connect to MySQL server on 'localhost:3306' (99)\n"
          ]
        }
      ],
      "source": [
        "#просмотр всех таблиц, хранящихся в базе данных\n",
        "try:\n",
        "    with connect(\n",
        "        host=\"localhost\",\n",
        "        user=input(\"Введите имя пользователя: \"),\n",
        "        password=getpass(\"Введите пароль: \"),\n",
        "    ) as connection:\n",
        "        show_db_query = \"SHOW DATABASES\"\n",
        "        with connection.cursor() as cursor:\n",
        "            cursor.execute(show_db_query)\n",
        "            for db in cursor:\n",
        "                print(db)\n",
        "except Error as e:\n",
        "    print(e)"
      ]
    },
    {
      "cell_type": "code",
      "execution_count": null,
      "metadata": {
        "id": "BwO8mC_PcdgG"
      },
      "outputs": [],
      "source": [
        "#подключение к существующей БД\n",
        "try:\n",
        "    with connect(\n",
        "        host=\"localhost\",\n",
        "        user=input(\"Имя пользователя: \"),\n",
        "        password=getpass(\"Пароль: \"),\n",
        "        database=\"prakt_1\",\n",
        "    ) as connection:\n",
        "        print(connection)\n",
        "except Error as e:\n",
        "    print(e)\n",
        "sql_create = \"\"\"CREATE TABLE students (id integer PRIMARY KEY, FIO text, DR text)\"\"\"\n",
        "\n",
        "with connection.cursor() as cursor:\n",
        "    cursor.execute(sql_create)\n",
        "    connection.commit()\n",
        "\n",
        "\n",
        "sql_show = \"DESCRIBE students\"\n",
        "with connection.cursor() as cursor:\n",
        "    cursor.execute(sql_show)\n",
        "    res = cursor.fetchall()\n",
        "    for row in res:\n",
        "        print(row)\n",
        "\n",
        "sql_insert=\"INSERT INTO students VALUES (1,'Иванов H.P.','2004'),(2,'Смирнов В.С.','2002')\"\n",
        "\n",
        "with connection.cursor() as cursor:\n",
        "    cursor.execute(sql_insert)\n",
        "    connection.commit()\n",
        "\n",
        "sql_select = \"SELECT * FROM students WHERE id <3 ORDER BY DR DESC\"\n",
        "with connection.cursor() as cursor:\n",
        "    cursor.execute(sql_select)\n",
        "    result = cursor.fetchall()\n",
        "    for row in result:\n",
        "        print(row)"
      ]
    },
    {
      "cell_type": "code",
      "execution_count": null,
      "metadata": {
        "id": "mQ4TbK5tesoe"
      },
      "outputs": [],
      "source": [
        "from getpass import getpass\n",
        "from mysql.connector import connect, Error\n",
        "\n",
        "old_id = input(\"Введите id студента: \")\n",
        "new_fio = input(\"Введите обновлённые сведения по ФИО: \")\n",
        "update_sql = \"\"\"UPDATE students SET FIO = \"%s\" WHERE  id = \"%s\";\n",
        "                SELECT * FROM students WHERE id = \"%s\"\n",
        "             \"\"\" % (\n",
        "    new_fio,\n",
        "    old_id,\n",
        "    old_id,\n",
        ")\n",
        "\n",
        "try:\n",
        "    with connect(\n",
        "        host=\"localhost\",\n",
        "        user=input(\"Enter username: \"),\n",
        "        password=getpass(\"Enter password: \"),\n",
        "        database=\"test_1\",\n",
        "    ) as connection:\n",
        "        with connection.cursor() as cursor:\n",
        "            for result in cursor.execute(update_sql, multi=True):\n",
        "                if result.with_rows:\n",
        "                    print(result.fetchall())\n",
        "            connection.commit()\n",
        "except Error as e:\n",
        "    print(e)"
      ]
    },
    {
      "cell_type": "markdown",
      "metadata": {
        "id": "HZvZn8hyi4Nl"
      },
      "source": [
        "--- что почитать по MySQL на Python: 1) https://www.internet-technologies.ru/articles/posobie-po-mysql-na-python.html\n",
        "\n",
        "2) https://metanit.com/python/database/\n",
        "\n",
        "3) https://github.com/rasbt/python_reference/tree/master/tutorials/sqlite3_howto\n",
        "\n",
        "--- по SQLite:    https://github.com/DataLatata/python-school/blob/master/41-sqlite-database-in-python/sqlite-and-pandas.ipynb"
      ]
    },
    {
      "cell_type": "markdown",
      "metadata": {
        "id": "ndgSc67EX6y4"
      },
      "source": [
        "#Работа с СУБД PostgreSQL"
      ]
    },
    {
      "cell_type": "code",
      "execution_count": 19,
      "metadata": {
        "colab": {
          "base_uri": "https://localhost:8080/"
        },
        "id": "tki7Ah0MjiAa",
        "outputId": "baba8ada-d98d-4149-c95f-2d7bcbe101a9"
      },
      "outputs": [
        {
          "output_type": "stream",
          "name": "stdout",
          "text": [
            "Collecting psycopg2-binary\n",
            "  Downloading psycopg2_binary-2.9.10-cp311-cp311-manylinux_2_17_x86_64.manylinux2014_x86_64.whl.metadata (4.9 kB)\n",
            "Downloading psycopg2_binary-2.9.10-cp311-cp311-manylinux_2_17_x86_64.manylinux2014_x86_64.whl (3.0 MB)\n",
            "\u001b[2K   \u001b[90m━━━━━━━━━━━━━━━━━━━━━━━━━━━━━━━━━━━━━━━━\u001b[0m \u001b[32m3.0/3.0 MB\u001b[0m \u001b[31m28.1 MB/s\u001b[0m eta \u001b[36m0:00:00\u001b[0m\n",
            "\u001b[?25hInstalling collected packages: psycopg2-binary\n",
            "Successfully installed psycopg2-binary-2.9.10\n"
          ]
        }
      ],
      "source": [
        "pip install psycopg2-binary"
      ]
    },
    {
      "cell_type": "code",
      "execution_count": 20,
      "metadata": {
        "colab": {
          "base_uri": "https://localhost:8080/"
        },
        "id": "Q-tPEu1jlUuh",
        "outputId": "9b600b83-7016-47ae-a3de-a9b17d1f40d8"
      },
      "outputs": [
        {
          "output_type": "execute_result",
          "data": {
            "text/plain": [
              "160000"
            ]
          },
          "metadata": {},
          "execution_count": 20
        }
      ],
      "source": [
        "import psycopg2\n",
        "psycopg2.__libpq_version__"
      ]
    },
    {
      "cell_type": "code",
      "execution_count": 26,
      "metadata": {
        "colab": {
          "base_uri": "https://localhost:8080/",
          "height": 263
        },
        "id": "5dt7NeFYsItr",
        "outputId": "f3d24273-4881-4692-d4ab-404ea1e56b67"
      },
      "outputs": [
        {
          "output_type": "stream",
          "name": "stdout",
          "text": [
            "Ошибка при работе с PostgreSQL connection to server at \"127.0.0.1\", port 5432 failed: Connection refused\n",
            "\tIs the server running on that host and accepting TCP/IP connections?\n",
            "\n"
          ]
        },
        {
          "output_type": "error",
          "ename": "NameError",
          "evalue": "name 'connection' is not defined",
          "traceback": [
            "\u001b[0;31m---------------------------------------------------------------------------\u001b[0m",
            "\u001b[0;31mNameError\u001b[0m                                 Traceback (most recent call last)",
            "\u001b[0;32m<ipython-input-26-c296127db991>\u001b[0m in \u001b[0;36m<cell line: 0>\u001b[0;34m()\u001b[0m\n\u001b[1;32m     25\u001b[0m     \u001b[0mprint\u001b[0m\u001b[0;34m(\u001b[0m\u001b[0;34m\"Ошибка при работе с PostgreSQL\"\u001b[0m\u001b[0;34m,\u001b[0m \u001b[0merror\u001b[0m\u001b[0;34m)\u001b[0m\u001b[0;34m\u001b[0m\u001b[0;34m\u001b[0m\u001b[0m\n\u001b[1;32m     26\u001b[0m \u001b[0;32mfinally\u001b[0m\u001b[0;34m:\u001b[0m\u001b[0;34m\u001b[0m\u001b[0;34m\u001b[0m\u001b[0m\n\u001b[0;32m---> 27\u001b[0;31m     \u001b[0;32mif\u001b[0m \u001b[0mconnection\u001b[0m\u001b[0;34m:\u001b[0m\u001b[0;34m\u001b[0m\u001b[0;34m\u001b[0m\u001b[0m\n\u001b[0m\u001b[1;32m     28\u001b[0m         \u001b[0mcur\u001b[0m\u001b[0;34m.\u001b[0m\u001b[0mclose\u001b[0m\u001b[0;34m(\u001b[0m\u001b[0;34m)\u001b[0m\u001b[0;34m\u001b[0m\u001b[0;34m\u001b[0m\u001b[0m\n\u001b[1;32m     29\u001b[0m         \u001b[0mconnection\u001b[0m\u001b[0;34m.\u001b[0m\u001b[0mclose\u001b[0m\u001b[0;34m(\u001b[0m\u001b[0;34m)\u001b[0m\u001b[0;34m\u001b[0m\u001b[0;34m\u001b[0m\u001b[0m\n",
            "\u001b[0;31mNameError\u001b[0m: name 'connection' is not defined"
          ]
        }
      ],
      "source": [
        "# Подключение к серверу БД, просмотр информации о сервере PostgreSQL\n",
        "import psycopg2\n",
        "from psycopg2 import Error\n",
        "\n",
        "try:\n",
        "    connection = psycopg2.connect(user=\"postgres\",\n",
        "                                  # пароль, который указали при установке PostgreSQL\n",
        "                                  password=\"*******\",\n",
        "                                  host=\"127.0.0.1\",\n",
        "                                  port=\"5432\",\n",
        "                                  database=\"*****\") #as cn: цith cn.cursor() as cur: ...\n",
        "\n",
        "    # Курсор для выполнения операций с БД\n",
        "    cur = connection.cursor()\n",
        "    # Распечатать сведения о PostgreSQL\n",
        "    print(\"Информация о сервере PostgreSQL\")\n",
        "    print(connection.get_dsn_parameters(), \"\\n\")\n",
        "    # Выполнение SQL-запроса\n",
        "    cur.execute(\"SELECT version();\")\n",
        "    # Получить результат\n",
        "    record = cur.fetchone()\n",
        "    print(\"Вы подключены к - \", record, \"\\n\")\n",
        "\n",
        "except (Exception, Error) as error:\n",
        "    print(\"Ошибка при работе с PostgreSQL\", error)\n",
        "finally:\n",
        "    if connection:\n",
        "        cur.close()\n",
        "        connection.close()\n",
        "        print(\"Соединение с PostgreSQL закрыто\")"
      ]
    },
    {
      "cell_type": "code",
      "execution_count": null,
      "metadata": {
        "id": "rVbLABTvrSYN"
      },
      "outputs": [],
      "source": [
        "# Подключение к существующей БД test_db\n",
        "import psycopg2\n",
        "from psycopg2 import Error\n",
        "from psycopg2.extensions import ISOLATION_LEVEL_AUTOCOMMIT\n",
        "try:\n",
        "    # Подключение к существующей базе данных\n",
        "    connection = psycopg2.connect(user=\"postgres\",\n",
        "                                  # пароль, который указали при установке PostgreSQL\n",
        "                                  password=\"******\",\n",
        "                                  host=\"127.0.0.1\",\n",
        "                                  port=\"5432\")\n",
        "    connection.set_isolation_level(ISOLATION_LEVEL_AUTOCOMMIT)\n",
        "    # Курсор для выполнения операций с базой данных\n",
        "    cursor = connection.cursor()\n",
        "    sql_create_database = 'create database test_db'\n",
        "    cursor.execute(sql_create_database)\n",
        "except (Exception, Error) as error:\n",
        "    print(\"Ошибка при работе с PostgreSQL\", error)\n",
        "finally:\n",
        "    if connection:\n",
        "        cursor.close()\n",
        "        connection.close()\n",
        "        print(\"Соединение с PostgreSQL закрыто\")"
      ]
    },
    {
      "cell_type": "code",
      "execution_count": null,
      "metadata": {
        "id": "lIvbGMjDjqQa"
      },
      "outputs": [],
      "source": [
        "import psycopg2\n",
        "conn = psycopg2.connect(dbname='testdb',\n",
        "                        user='postgres',\n",
        "                        password='11u424',\n",
        "                        host='localhost' ,\n",
        "                        port=5432)\n",
        "cur = conn.cursor()\n",
        "cur.execute(\"CREATE TABLE students (id integer PRIMARY KEY, FIO text, DR text)\")\n",
        "cur.execute(\"INSERT INTO students VALUES (1,'Иванов H.P.','2004'),(2,'Смирнов В.С.','2002')\",(\"postgres\", \"123\"))\n",
        "cur.close()\n",
        "conn.commit()"
      ]
    },
    {
      "cell_type": "code",
      "execution_count": null,
      "metadata": {
        "id": "YPsInC7vnr8D"
      },
      "outputs": [],
      "source": [
        "with conn.cursor() as cursor:\n",
        "    conn.autocommit = True\n",
        "    values = [\n",
        "        (12, 'Васильев А.Ф.', '2003'),\n",
        "        (13, 'Долгин Ч.З.', '2001'),\n",
        "        (14, 'Федорова Ц.З.', '2002'),\n",
        "    ]\n",
        "    insert = sql.SQL('INSERT INTO students (id, FIO, DR) VALUES {}').format(sql.SQL(',').join(map(sql.Literal, values)))\n",
        "    cursor.execute(insert)"
      ]
    },
    {
      "cell_type": "code",
      "execution_count": null,
      "metadata": {
        "id": "xiWVwGzGmS8_"
      },
      "outputs": [],
      "source": [
        "cur.execute(\"SELECT id, fio, dr FROM students\")\n",
        "cur.fetchall()"
      ]
    },
    {
      "cell_type": "code",
      "execution_count": null,
      "metadata": {
        "id": "LG7B70gWmd2t"
      },
      "outputs": [],
      "source": [
        "cur.execute('UPDATE students SET fio = %(fio)s WHERE id = %(id)s', {'fio':'Петров М.Л.', 'id':'789'})\n",
        "conn.commit()"
      ]
    },
    {
      "cell_type": "code",
      "execution_count": null,
      "metadata": {
        "id": "loCdAdFcm-Uk"
      },
      "outputs": [],
      "source": [
        "cur.close()\n",
        "conn.close()"
      ]
    }
  ],
  "metadata": {
    "colab": {
      "provenance": []
    },
    "kernelspec": {
      "display_name": "Python 3 (ipykernel)",
      "language": "python",
      "name": "python3"
    },
    "language_info": {
      "codemirror_mode": {
        "name": "ipython",
        "version": 3
      },
      "file_extension": ".py",
      "mimetype": "text/x-python",
      "name": "python",
      "nbconvert_exporter": "python",
      "pygments_lexer": "ipython3",
      "version": "3.11.5"
    }
  },
  "nbformat": 4,
  "nbformat_minor": 0
}